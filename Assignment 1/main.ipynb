{
 "cells": [
  {
   "cell_type": "code",
   "execution_count": 3,
   "id": "1fcfe4c5-f49d-4fc0-a65a-c311dc76f1cf",
   "metadata": {},
   "outputs": [],
   "source": [
    "# a)\n",
    "\n",
    "f = open(\"input_text.txt\", \"r\", encoding=\"utf-8\")\n",
    "lines = f.readlines()\n",
    "f.close()"
   ]
  },
  {
   "cell_type": "code",
   "execution_count": 2,
   "id": "45f659b3-8e8d-4c3c-8216-dddb8f909d6e",
   "metadata": {},
   "outputs": [
    {
     "name": "stdout",
     "output_type": "stream",
     "text": [
      "This was invitation enough.\n",
      "\n",
      "“Why, my dear, you must know, Mrs. Long says that Netherfield is taken by a young man of large fortune from the north of England; that he came down on Monday in a chaise and four to see the place, and was so much delighted with it that he agreed with Mr. Morris immediately; that he is to take possession before Michaelmas, and some of his servants are to be in the house by the end of next week.{3}”\n",
      "\n",
      "“What is his name?”\n",
      "\n",
      "“Bingley.”\n",
      "\n",
      "“Is he married or single?”\n",
      "\n",
      "“Oh, single, my dear, to be sure! A single man of large fortune; four or five thousand a year. What a fine thing for our girls!”\n",
      "\n",
      "“How so? how can it affect them?”\n",
      "\n",
      "“My dear Mr. Bennet,” replied his wife, “how can you be so tiresome? You must know that I am thinking of his marrying one of them.”\n",
      "\n",
      "“Is that his design in settling here?”\n",
      "\n",
      "“Design? Nonsense, how can you talk so! But it is very likely that he may fall in love with one of them, and therefore you must visit him as soon as he comes.”\n",
      "\n"
     ]
    }
   ],
   "source": [
    "for i in range(20):\n",
    "    print(lines[i].strip())\n"
   ]
  },
  {
   "cell_type": "code",
   "execution_count": 4,
   "id": "68b63306-154f-4bb6-8eed-b3206229ce22",
   "metadata": {},
   "outputs": [],
   "source": [
    "#b)\n",
    "\n",
    "lowercase_lines = []\n",
    "for line in lines:\n",
    "    lowercase_lines.append(line.lower())"
   ]
  },
  {
   "cell_type": "code",
   "execution_count": 5,
   "id": "502acb98-01e0-4c27-afac-1d952cada817",
   "metadata": {},
   "outputs": [],
   "source": [
    "#c)\n",
    "\n",
    "f = open(\"lowercase.txt\", \"w\", encoding=\"utf-8\")\n",
    "f.writelines(lowercase_lines)\n",
    "f.close()"
   ]
  },
  {
   "cell_type": "code",
   "execution_count": 8,
   "id": "6da9faf6-12fa-44f7-9bd2-d14e602bd11e",
   "metadata": {},
   "outputs": [],
   "source": [
    "import re\n",
    "import nltk\n",
    "from nltk.corpus import stopwords\n",
    "from collections import Counter"
   ]
  },
  {
   "cell_type": "code",
   "execution_count": 9,
   "id": "bdbb92c7-0373-454f-9a34-de9638c024a8",
   "metadata": {},
   "outputs": [
    {
     "name": "stderr",
     "output_type": "stream",
     "text": [
      "[nltk_data] Downloading package stopwords to\n",
      "[nltk_data]     C:\\Users\\Admin\\AppData\\Roaming\\nltk_data...\n",
      "[nltk_data]   Package stopwords is already up-to-date!\n"
     ]
    },
    {
     "data": {
      "text/plain": [
       "True"
      ]
     },
     "execution_count": 9,
     "metadata": {},
     "output_type": "execute_result"
    }
   ],
   "source": [
    "nltk.download('stopwords')"
   ]
  },
  {
   "cell_type": "code",
   "execution_count": 10,
   "id": "4c94a98e-990e-478e-8ad8-941bad668161",
   "metadata": {},
   "outputs": [],
   "source": [
    "f = open(\"lowercase.txt\", \"r\", encoding=\"utf-8\")\n",
    "text = f.read()\n",
    "f.close()"
   ]
  },
  {
   "cell_type": "code",
   "execution_count": 11,
   "id": "ffceef40-829d-4792-9666-14728cc7b5ba",
   "metadata": {},
   "outputs": [],
   "source": [
    "text = re.sub(r'[^a-z\\s]', ' ', text)\n",
    "text = re.sub(r'\\s+', ' ', text).strip()"
   ]
  },
  {
   "cell_type": "code",
   "execution_count": 12,
   "id": "636d874c-e978-4360-8e57-c165c918ea0b",
   "metadata": {},
   "outputs": [
    {
     "name": "stdout",
     "output_type": "stream",
     "text": [
      "Cleaned text saved to cleaned_output.txt\n"
     ]
    }
   ],
   "source": [
    "f = open(\"cleaned_output.txt\", \"w\", encoding=\"utf-8\")\n",
    "f.write(text)\n",
    "f.close()\n",
    "\n",
    "print(\"Cleaned text saved to cleaned_output.txt\")"
   ]
  },
  {
   "cell_type": "code",
   "execution_count": 13,
   "id": "8cbd7de7-7c58-4e3e-b336-d4d2365893db",
   "metadata": {},
   "outputs": [],
   "source": [
    "#Task 3\n",
    "f = open(\"cleaned_output.txt\", \"r\", encoding=\"utf-8\")\n",
    "text = f.read()\n",
    "f.close()"
   ]
  },
  {
   "cell_type": "code",
   "execution_count": 14,
   "id": "4cb67f8e-9979-45fd-bab1-d0e7a6db0276",
   "metadata": {},
   "outputs": [],
   "source": [
    "tokens = text.split()"
   ]
  },
  {
   "cell_type": "code",
   "execution_count": 15,
   "id": "887728c1-434b-4d76-9973-fbb3e766b7b9",
   "metadata": {},
   "outputs": [],
   "source": [
    "stop_words = set(stopwords.words(\"english\"))\n",
    "tokens_no_stop = []\n",
    "for w in tokens:\n",
    "    if w not in stop_words:\n",
    "        tokens_no_stop.append(w)"
   ]
  },
  {
   "cell_type": "code",
   "execution_count": 16,
   "id": "3d1e6ac9-b5e9-495b-a8c4-2cec500257dc",
   "metadata": {},
   "outputs": [
    {
     "name": "stdout",
     "output_type": "stream",
     "text": [
      "Total tokens before stopword removal: 703\n",
      "Total tokens after stopword removal: 301\n",
      "Vocabulary size: 208\n"
     ]
    }
   ],
   "source": [
    "print(\"Total tokens before stopword removal:\", len(tokens))\n",
    "print(\"Total tokens after stopword removal:\", len(tokens_no_stop))\n",
    "print(\"Vocabulary size:\", len(set(tokens_no_stop)))"
   ]
  },
  {
   "cell_type": "code",
   "execution_count": 17,
   "id": "87f30446-dbac-44ec-852a-8388dcc107c3",
   "metadata": {},
   "outputs": [],
   "source": [
    "#Task 4\n",
    "word_count = {}\n",
    "\n",
    "for w in tokens_no_stop:\n",
    "    if w in word_count:\n",
    "        word_count[w] += 1\n",
    "    else:\n",
    "        word_count[w] = 1"
   ]
  },
  {
   "cell_type": "code",
   "execution_count": 18,
   "id": "898a9dd5-d596-4015-af0e-79df7512c013",
   "metadata": {},
   "outputs": [
    {
     "name": "stdout",
     "output_type": "stream",
     "text": [
      "\n",
      "Top 20 most common words:\n",
      "dear : 7\n",
      "mr : 7\n",
      "must : 6\n",
      "see : 5\n",
      "visit : 5\n",
      "know : 4\n",
      "bingley : 4\n",
      "girls : 4\n",
      "go : 4\n",
      "twenty : 4\n",
      "four : 3\n",
      "much : 3\n",
      "single : 3\n",
      "bennet : 3\n",
      "one : 3\n",
      "may : 3\n",
      "beauty : 3\n",
      "woman : 3\n",
      "daughters : 3\n",
      "lizzy : 3\n"
     ]
    }
   ],
   "source": [
    "print(\"\\nTop 20 most common words:\")\n",
    "sorted_words = sorted(word_count.items(), key=lambda x: x[1], reverse=True)\n",
    "\n",
    "for i in range(20):\n",
    "    print(sorted_words[i][0], \":\", sorted_words[i][1])"
   ]
  },
  {
   "cell_type": "code",
   "execution_count": 19,
   "id": "cf856e06-5d2c-422d-90ab-e4a06ef3dbe8",
   "metadata": {},
   "outputs": [
    {
     "name": "stdout",
     "output_type": "stream",
     "text": [
      "\n",
      "Word frequency saved to word_frequency.csv\n"
     ]
    }
   ],
   "source": [
    "import csv\n",
    "f = open(\"word_frequency.csv\", \"w\", newline='', encoding=\"utf-8\")\n",
    "writer = csv.writer(f)\n",
    "writer.writerow([\"Word\", \"Count\"])\n",
    "for word, count in sorted_words:\n",
    "    writer.writerow([word, count])\n",
    "f.close()\n",
    "\n",
    "print(\"\\nWord frequency saved to word_frequency.csv\")"
   ]
  },
  {
   "cell_type": "code",
   "execution_count": null,
   "id": "f2654803-6e32-49ce-82b7-fdf25a6cbbd0",
   "metadata": {},
   "outputs": [],
   "source": []
  }
 ],
 "metadata": {
  "kernelspec": {
   "display_name": "Python 3 (ipykernel)",
   "language": "python",
   "name": "python3"
  },
  "language_info": {
   "codemirror_mode": {
    "name": "ipython",
    "version": 3
   },
   "file_extension": ".py",
   "mimetype": "text/x-python",
   "name": "python",
   "nbconvert_exporter": "python",
   "pygments_lexer": "ipython3",
   "version": "3.13.5"
  }
 },
 "nbformat": 4,
 "nbformat_minor": 5
}
